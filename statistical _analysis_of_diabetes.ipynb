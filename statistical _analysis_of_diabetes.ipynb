{
 "cells": [
  {
   "cell_type": "markdown",
   "id": "f34a3980-d555-4c66-838d-53bd8e8ffa39",
   "metadata": {},
   "source": [
    "# Analysis of Dataset with Seaborn and Matplotlib"
   ]
  },
  {
   "cell_type": "markdown",
   "id": "49b60e83-1c39-429d-b56a-2bec397b95dc",
   "metadata": {},
   "source": [
    "## Introduction\n",
    "\n",
    "This notebook demonstrates visualizing and analyzing a dataset, specifically focusing on relationships between variables such as ‘Age’ and ‘Outcome’. The notebook includes scatter plots with regression lines and histograms to understand the distribution of the ‘Age’ variable."
   ]
  },
  {
   "cell_type": "markdown",
   "id": "c11f1a2b-dd27-4941-80a1-3c3cfa7ae04c",
   "metadata": {},
   "source": [
    "# Table of Contents:\n",
    "\n",
    "- 1.Data Import and Exploration\n",
    "- 2.Performing Descriptive Statistics¶\n",
    "- 3.Performing Inferential Statistics and Confidence Intervals\n",
    "- 4.Regression Analysis¶\n",
    "- 5.Data Visualization\n",
    "  - 5.1 Scatter Plot with Regression Line\n",
    "  - 5.2 Histogram of Age\n",
    "- 6.Conclusion"
   ]
  },
  {
   "cell_type": "markdown",
   "id": "32c64715-c366-46de-ab3b-e995ee9e01e9",
   "metadata": {},
   "source": [
    "## 1. Data Import and Exploration\n",
    "\n",
    "The dataset is loaded into a Pandas DataFrame to facilitate easy manipulation and analysis."
   ]
  },
  {
   "cell_type": "markdown",
   "id": "5bc85c55-371a-4445-9e03-2a2ef3b7b570",
   "metadata": {},
   "source": [
    "### Source:https://www.kaggle.com/code/melikedilekci/diabetes-dataset-for-beginners"
   ]
  },
  {
   "cell_type": "code",
   "execution_count": 1,
   "id": "ce235dac-b3a8-4dea-80e1-ab9481ab41b0",
   "metadata": {},
   "outputs": [],
   "source": [
    "import pandas as pd"
   ]
  },
  {
   "cell_type": "code",
   "execution_count": 2,
   "id": "1077b0f6-19bd-4dfb-ba9b-b9dfdb3cfb58",
   "metadata": {},
   "outputs": [],
   "source": [
    "df=pd.read_csv('diabetes.csv')"
   ]
  },
  {
   "cell_type": "markdown",
   "id": "8f360e23-8539-4f43-a673-97df8de68ab0",
   "metadata": {},
   "source": [
    "Explanation:\n",
    "In this section, we load the dataset into a Pandas DataFrame "
   ]
  },
  {
   "cell_type": "code",
   "execution_count": 3,
   "id": "bdd080ed-604d-4e91-9a1c-20d75a642065",
   "metadata": {},
   "outputs": [
    {
     "data": {
      "text/html": [
       "<div>\n",
       "<style scoped>\n",
       "    .dataframe tbody tr th:only-of-type {\n",
       "        vertical-align: middle;\n",
       "    }\n",
       "\n",
       "    .dataframe tbody tr th {\n",
       "        vertical-align: top;\n",
       "    }\n",
       "\n",
       "    .dataframe thead th {\n",
       "        text-align: right;\n",
       "    }\n",
       "</style>\n",
       "<table border=\"1\" class=\"dataframe\">\n",
       "  <thead>\n",
       "    <tr style=\"text-align: right;\">\n",
       "      <th></th>\n",
       "      <th>Pregnancies</th>\n",
       "      <th>Glucose</th>\n",
       "      <th>BloodPressure</th>\n",
       "      <th>SkinThickness</th>\n",
       "      <th>Insulin</th>\n",
       "      <th>BMI</th>\n",
       "      <th>DiabetesPedigreeFunction</th>\n",
       "      <th>Age</th>\n",
       "      <th>Outcome</th>\n",
       "    </tr>\n",
       "  </thead>\n",
       "  <tbody>\n",
       "    <tr>\n",
       "      <th>0</th>\n",
       "      <td>6</td>\n",
       "      <td>148</td>\n",
       "      <td>72</td>\n",
       "      <td>35</td>\n",
       "      <td>0</td>\n",
       "      <td>33.6</td>\n",
       "      <td>0.627</td>\n",
       "      <td>50</td>\n",
       "      <td>1</td>\n",
       "    </tr>\n",
       "    <tr>\n",
       "      <th>1</th>\n",
       "      <td>1</td>\n",
       "      <td>85</td>\n",
       "      <td>66</td>\n",
       "      <td>29</td>\n",
       "      <td>0</td>\n",
       "      <td>26.6</td>\n",
       "      <td>0.351</td>\n",
       "      <td>31</td>\n",
       "      <td>0</td>\n",
       "    </tr>\n",
       "    <tr>\n",
       "      <th>2</th>\n",
       "      <td>8</td>\n",
       "      <td>183</td>\n",
       "      <td>64</td>\n",
       "      <td>0</td>\n",
       "      <td>0</td>\n",
       "      <td>23.3</td>\n",
       "      <td>0.672</td>\n",
       "      <td>32</td>\n",
       "      <td>1</td>\n",
       "    </tr>\n",
       "    <tr>\n",
       "      <th>3</th>\n",
       "      <td>1</td>\n",
       "      <td>89</td>\n",
       "      <td>66</td>\n",
       "      <td>23</td>\n",
       "      <td>94</td>\n",
       "      <td>28.1</td>\n",
       "      <td>0.167</td>\n",
       "      <td>21</td>\n",
       "      <td>0</td>\n",
       "    </tr>\n",
       "    <tr>\n",
       "      <th>4</th>\n",
       "      <td>0</td>\n",
       "      <td>137</td>\n",
       "      <td>40</td>\n",
       "      <td>35</td>\n",
       "      <td>168</td>\n",
       "      <td>43.1</td>\n",
       "      <td>2.288</td>\n",
       "      <td>33</td>\n",
       "      <td>1</td>\n",
       "    </tr>\n",
       "    <tr>\n",
       "      <th>...</th>\n",
       "      <td>...</td>\n",
       "      <td>...</td>\n",
       "      <td>...</td>\n",
       "      <td>...</td>\n",
       "      <td>...</td>\n",
       "      <td>...</td>\n",
       "      <td>...</td>\n",
       "      <td>...</td>\n",
       "      <td>...</td>\n",
       "    </tr>\n",
       "    <tr>\n",
       "      <th>763</th>\n",
       "      <td>10</td>\n",
       "      <td>101</td>\n",
       "      <td>76</td>\n",
       "      <td>48</td>\n",
       "      <td>180</td>\n",
       "      <td>32.9</td>\n",
       "      <td>0.171</td>\n",
       "      <td>63</td>\n",
       "      <td>0</td>\n",
       "    </tr>\n",
       "    <tr>\n",
       "      <th>764</th>\n",
       "      <td>2</td>\n",
       "      <td>122</td>\n",
       "      <td>70</td>\n",
       "      <td>27</td>\n",
       "      <td>0</td>\n",
       "      <td>36.8</td>\n",
       "      <td>0.340</td>\n",
       "      <td>27</td>\n",
       "      <td>0</td>\n",
       "    </tr>\n",
       "    <tr>\n",
       "      <th>765</th>\n",
       "      <td>5</td>\n",
       "      <td>121</td>\n",
       "      <td>72</td>\n",
       "      <td>23</td>\n",
       "      <td>112</td>\n",
       "      <td>26.2</td>\n",
       "      <td>0.245</td>\n",
       "      <td>30</td>\n",
       "      <td>0</td>\n",
       "    </tr>\n",
       "    <tr>\n",
       "      <th>766</th>\n",
       "      <td>1</td>\n",
       "      <td>126</td>\n",
       "      <td>60</td>\n",
       "      <td>0</td>\n",
       "      <td>0</td>\n",
       "      <td>30.1</td>\n",
       "      <td>0.349</td>\n",
       "      <td>47</td>\n",
       "      <td>1</td>\n",
       "    </tr>\n",
       "    <tr>\n",
       "      <th>767</th>\n",
       "      <td>1</td>\n",
       "      <td>93</td>\n",
       "      <td>70</td>\n",
       "      <td>31</td>\n",
       "      <td>0</td>\n",
       "      <td>30.4</td>\n",
       "      <td>0.315</td>\n",
       "      <td>23</td>\n",
       "      <td>0</td>\n",
       "    </tr>\n",
       "  </tbody>\n",
       "</table>\n",
       "<p>768 rows × 9 columns</p>\n",
       "</div>"
      ],
      "text/plain": [
       "     Pregnancies  Glucose  BloodPressure  SkinThickness  Insulin   BMI  \\\n",
       "0              6      148             72             35        0  33.6   \n",
       "1              1       85             66             29        0  26.6   \n",
       "2              8      183             64              0        0  23.3   \n",
       "3              1       89             66             23       94  28.1   \n",
       "4              0      137             40             35      168  43.1   \n",
       "..           ...      ...            ...            ...      ...   ...   \n",
       "763           10      101             76             48      180  32.9   \n",
       "764            2      122             70             27        0  36.8   \n",
       "765            5      121             72             23      112  26.2   \n",
       "766            1      126             60              0        0  30.1   \n",
       "767            1       93             70             31        0  30.4   \n",
       "\n",
       "     DiabetesPedigreeFunction  Age  Outcome  \n",
       "0                       0.627   50        1  \n",
       "1                       0.351   31        0  \n",
       "2                       0.672   32        1  \n",
       "3                       0.167   21        0  \n",
       "4                       2.288   33        1  \n",
       "..                        ...  ...      ...  \n",
       "763                     0.171   63        0  \n",
       "764                     0.340   27        0  \n",
       "765                     0.245   30        0  \n",
       "766                     0.349   47        1  \n",
       "767                     0.315   23        0  \n",
       "\n",
       "[768 rows x 9 columns]"
      ]
     },
     "execution_count": 3,
     "metadata": {},
     "output_type": "execute_result"
    }
   ],
   "source": [
    "df"
   ]
  },
  {
   "cell_type": "code",
   "execution_count": 4,
   "id": "aa1cf0be-6335-482c-805d-e677d4118576",
   "metadata": {},
   "outputs": [
    {
     "data": {
      "text/html": [
       "<div>\n",
       "<style scoped>\n",
       "    .dataframe tbody tr th:only-of-type {\n",
       "        vertical-align: middle;\n",
       "    }\n",
       "\n",
       "    .dataframe tbody tr th {\n",
       "        vertical-align: top;\n",
       "    }\n",
       "\n",
       "    .dataframe thead th {\n",
       "        text-align: right;\n",
       "    }\n",
       "</style>\n",
       "<table border=\"1\" class=\"dataframe\">\n",
       "  <thead>\n",
       "    <tr style=\"text-align: right;\">\n",
       "      <th></th>\n",
       "      <th>Pregnancies</th>\n",
       "      <th>Glucose</th>\n",
       "      <th>BloodPressure</th>\n",
       "      <th>SkinThickness</th>\n",
       "      <th>Insulin</th>\n",
       "      <th>BMI</th>\n",
       "      <th>DiabetesPedigreeFunction</th>\n",
       "      <th>Age</th>\n",
       "      <th>Outcome</th>\n",
       "    </tr>\n",
       "  </thead>\n",
       "  <tbody>\n",
       "    <tr>\n",
       "      <th>0</th>\n",
       "      <td>6</td>\n",
       "      <td>148</td>\n",
       "      <td>72</td>\n",
       "      <td>35</td>\n",
       "      <td>0</td>\n",
       "      <td>33.6</td>\n",
       "      <td>0.627</td>\n",
       "      <td>50</td>\n",
       "      <td>1</td>\n",
       "    </tr>\n",
       "    <tr>\n",
       "      <th>1</th>\n",
       "      <td>1</td>\n",
       "      <td>85</td>\n",
       "      <td>66</td>\n",
       "      <td>29</td>\n",
       "      <td>0</td>\n",
       "      <td>26.6</td>\n",
       "      <td>0.351</td>\n",
       "      <td>31</td>\n",
       "      <td>0</td>\n",
       "    </tr>\n",
       "    <tr>\n",
       "      <th>2</th>\n",
       "      <td>8</td>\n",
       "      <td>183</td>\n",
       "      <td>64</td>\n",
       "      <td>0</td>\n",
       "      <td>0</td>\n",
       "      <td>23.3</td>\n",
       "      <td>0.672</td>\n",
       "      <td>32</td>\n",
       "      <td>1</td>\n",
       "    </tr>\n",
       "    <tr>\n",
       "      <th>3</th>\n",
       "      <td>1</td>\n",
       "      <td>89</td>\n",
       "      <td>66</td>\n",
       "      <td>23</td>\n",
       "      <td>94</td>\n",
       "      <td>28.1</td>\n",
       "      <td>0.167</td>\n",
       "      <td>21</td>\n",
       "      <td>0</td>\n",
       "    </tr>\n",
       "    <tr>\n",
       "      <th>4</th>\n",
       "      <td>0</td>\n",
       "      <td>137</td>\n",
       "      <td>40</td>\n",
       "      <td>35</td>\n",
       "      <td>168</td>\n",
       "      <td>43.1</td>\n",
       "      <td>2.288</td>\n",
       "      <td>33</td>\n",
       "      <td>1</td>\n",
       "    </tr>\n",
       "  </tbody>\n",
       "</table>\n",
       "</div>"
      ],
      "text/plain": [
       "   Pregnancies  Glucose  BloodPressure  SkinThickness  Insulin   BMI  \\\n",
       "0            6      148             72             35        0  33.6   \n",
       "1            1       85             66             29        0  26.6   \n",
       "2            8      183             64              0        0  23.3   \n",
       "3            1       89             66             23       94  28.1   \n",
       "4            0      137             40             35      168  43.1   \n",
       "\n",
       "   DiabetesPedigreeFunction  Age  Outcome  \n",
       "0                     0.627   50        1  \n",
       "1                     0.351   31        0  \n",
       "2                     0.672   32        1  \n",
       "3                     0.167   21        0  \n",
       "4                     2.288   33        1  "
      ]
     },
     "execution_count": 4,
     "metadata": {},
     "output_type": "execute_result"
    }
   ],
   "source": [
    "df.head()"
   ]
  },
  {
   "cell_type": "markdown",
   "id": "6e101549-0fa6-4fc4-8241-ac2eaadc663c",
   "metadata": {},
   "source": [
    "we preview the first few rows. This step is crucial to understand the structure of the data."
   ]
  },
  {
   "cell_type": "markdown",
   "id": "1c75beee-ba41-4079-bbd1-19d27cf47d0a",
   "metadata": {},
   "source": [
    "## 2. Performing Descriptive Statistics"
   ]
  },
  {
   "cell_type": "code",
   "execution_count": 6,
   "id": "1bc8a7d2-8168-4a38-aad6-0a897d5fcbd8",
   "metadata": {},
   "outputs": [
    {
     "name": "stdout",
     "output_type": "stream",
     "text": [
      "Mean:\n",
      " Pregnancies                   3.845052\n",
      "Glucose                     120.894531\n",
      "BloodPressure                69.105469\n",
      "SkinThickness                20.536458\n",
      "Insulin                      79.799479\n",
      "BMI                          31.992578\n",
      "DiabetesPedigreeFunction      0.471876\n",
      "Age                          33.240885\n",
      "Outcome                       0.348958\n",
      "dtype: float64\n",
      "\n",
      "Median:\n",
      " Pregnancies                   3.0000\n",
      "Glucose                     117.0000\n",
      "BloodPressure                72.0000\n",
      "SkinThickness                23.0000\n",
      "Insulin                      30.5000\n",
      "BMI                          32.0000\n",
      "DiabetesPedigreeFunction      0.3725\n",
      "Age                          29.0000\n",
      "Outcome                       0.0000\n",
      "dtype: float64\n",
      "\n",
      "Mode:\n",
      " Pregnancies                  1.000\n",
      "Glucose                     99.000\n",
      "BloodPressure               70.000\n",
      "SkinThickness                0.000\n",
      "Insulin                      0.000\n",
      "BMI                         32.000\n",
      "DiabetesPedigreeFunction     0.254\n",
      "Age                         22.000\n",
      "Outcome                      0.000\n",
      "Name: 0, dtype: float64\n",
      "\n",
      "Standard Deviation:\n",
      " Pregnancies                   3.369578\n",
      "Glucose                      31.972618\n",
      "BloodPressure                19.355807\n",
      "SkinThickness                15.952218\n",
      "Insulin                     115.244002\n",
      "BMI                           7.884160\n",
      "DiabetesPedigreeFunction      0.331329\n",
      "Age                          11.760232\n",
      "Outcome                       0.476951\n",
      "dtype: float64\n",
      "\n",
      "Variance:\n",
      " Pregnancies                    11.354056\n",
      "Glucose                      1022.248314\n",
      "BloodPressure                 374.647271\n",
      "SkinThickness                 254.473245\n",
      "Insulin                     13281.180078\n",
      "BMI                            62.159984\n",
      "DiabetesPedigreeFunction        0.109779\n",
      "Age                           138.303046\n",
      "Outcome                         0.227483\n",
      "dtype: float64\n",
      "\n",
      "Range:\n",
      " Pregnancies                  17.000\n",
      "Glucose                     199.000\n",
      "BloodPressure               122.000\n",
      "SkinThickness                99.000\n",
      "Insulin                     846.000\n",
      "BMI                          67.100\n",
      "DiabetesPedigreeFunction      2.342\n",
      "Age                          60.000\n",
      "Outcome                       1.000\n",
      "dtype: float64\n",
      "\n",
      "Skewness:\n",
      " Pregnancies                 0.901674\n",
      "Glucose                     0.173754\n",
      "BloodPressure              -1.843608\n",
      "SkinThickness               0.109372\n",
      "Insulin                     2.272251\n",
      "BMI                        -0.428982\n",
      "DiabetesPedigreeFunction    1.919911\n",
      "Age                         1.129597\n",
      "Outcome                     0.635017\n",
      "dtype: float64\n",
      "\n",
      "Kurtosis:\n",
      " Pregnancies                 0.159220\n",
      "Glucose                     0.640780\n",
      "BloodPressure               5.180157\n",
      "SkinThickness              -0.520072\n",
      "Insulin                     7.214260\n",
      "BMI                         3.290443\n",
      "DiabetesPedigreeFunction    5.594954\n",
      "Age                         0.643159\n",
      "Outcome                    -1.600930\n",
      "dtype: float64\n"
     ]
    }
   ],
   "source": [
    "# Calculate basic descriptive statistics\n",
    "print(\"Mean:\\n\", df.mean())\n",
    "print(\"\\nMedian:\\n\", df.median())\n",
    "print(\"\\nMode:\\n\", df.mode().iloc[0])\n",
    "print(\"\\nStandard Deviation:\\n\", df.std())\n",
    "print(\"\\nVariance:\\n\", df.var())\n",
    "# Additional descriptive statistics\n",
    "print(\"\\nRange:\\n\", df.max() - df.min())\n",
    "print(\"\\nSkewness:\\n\", df.skew())\n",
    "print(\"\\nKurtosis:\\n\", df.kurt())"
   ]
  },
  {
   "cell_type": "markdown",
   "id": "a26b9dc2-a5c0-4fed-8795-76a68555f771",
   "metadata": {},
   "source": [
    "## 3.Performing Inferential Statistics and Confidence Intervals"
   ]
  },
  {
   "cell_type": "code",
   "execution_count": 7,
   "id": "f0107ece-4299-4fa4-8097-0168d1333182",
   "metadata": {},
   "outputs": [
    {
     "name": "stdout",
     "output_type": "stream",
     "text": [
      "T-statistic: 9.018023335156489\n",
      "P-value: 1.509528057520365e-18\n",
      "Reject the null hypothesis. The average BMI is significantly different from the hypothesized value.\n",
      "95% Confidence Interval for the mean of BMI: (31.43409662818411, 32.55105962181588)\n"
     ]
    }
   ],
   "source": [
    "import scipy.stats as stats\n",
    "\n",
    "# Select the feature for analysis\n",
    "feature = 'BMI'  # Replace with your desired feature\n",
    "\n",
    "# Define the hypothesized value\n",
    "hypothesized_value = 29.42699440206 # Replace with your hypothesized value\n",
    "\n",
    "# Extract the data for the selected feature\n",
    "data = df[feature]\n",
    "\n",
    "# Perform a one-sample t-test\n",
    "t_stat, p_value = stats.ttest_1samp(data, hypothesized_value)\n",
    "\n",
    "# Print the results\n",
    "print(f\"T-statistic: {t_stat}\")\n",
    "print(f\"P-value: {p_value}\")\n",
    "\n",
    "# Determine if the hypothesis should be rejected\n",
    "alpha = 0.05  # Significance level\n",
    "if p_value < alpha:\n",
    "    print(\"Reject the null hypothesis. The average BMI is significantly different from the hypothesized value.\")\n",
    "else:\n",
    "    print(\"The null hypothesis is accepted. There is no significant difference between the average BMI and the hypothesized value.\")\n",
    "\n",
    "# Calculate the 95% confidence interval\n",
    "confidence_level = 0.95\n",
    "degrees_of_freedom = len(data) - 1\n",
    "confidence_interval = stats.t.interval(confidence_level, degrees_of_freedom, loc=data.mean(), scale=stats.sem(data))\n",
    "\n",
    "# Print the confidence interval\n",
    "print(f\"95% Confidence Interval for the mean of {feature}: {confidence_interval}\")"
   ]
  },
  {
   "cell_type": "code",
   "execution_count": 11,
   "id": "c9073487-9c2f-467f-a29e-f6708f13eca8",
   "metadata": {},
   "outputs": [
    {
     "name": "stdout",
     "output_type": "stream",
     "text": [
      "Index(['Pregnancies', 'Glucose', 'BloodPressure', 'SkinThickness', 'Insulin',\n",
      "       'BMI', 'DiabetesPedigreeFunction', 'Age', 'Outcome'],\n",
      "      dtype='object')\n"
     ]
    }
   ],
   "source": [
    "print(df.columns)"
   ]
  },
  {
   "cell_type": "markdown",
   "id": "d45f6101-669d-4d2d-8c18-58ce91e38dce",
   "metadata": {},
   "source": [
    "## 4.Regression Analysis"
   ]
  },
  {
   "cell_type": "code",
   "execution_count": 13,
   "id": "3b7c78f4-a4d1-4ac4-b0f3-69b38d671cd3",
   "metadata": {},
   "outputs": [
    {
     "name": "stdout",
     "output_type": "stream",
     "text": [
      "                            OLS Regression Results                            \n",
      "==============================================================================\n",
      "Dep. Variable:                Outcome   R-squared:                       0.057\n",
      "Model:                            OLS   Adj. R-squared:                  0.056\n",
      "Method:                 Least Squares   F-statistic:                     46.14\n",
      "Date:                Sun, 08 Sep 2024   Prob (F-statistic):           2.21e-11\n",
      "Time:                        23:19:35   Log-Likelihood:                -498.20\n",
      "No. Observations:                 768   AIC:                             1000.\n",
      "Df Residuals:                     766   BIC:                             1010.\n",
      "Df Model:                           1                                         \n",
      "Covariance Type:            nonrobust                                         \n",
      "==============================================================================\n",
      "                 coef    std err          t      P>|t|      [0.025      0.975]\n",
      "------------------------------------------------------------------------------\n",
      "Intercept      0.0276      0.050      0.551      0.582      -0.071       0.126\n",
      "Age            0.0097      0.001      6.793      0.000       0.007       0.012\n",
      "==============================================================================\n",
      "Omnibus:                    12967.447   Durbin-Watson:                   1.964\n",
      "Prob(Omnibus):                  0.000   Jarque-Bera (JB):              102.025\n",
      "Skew:                           0.554   Prob(JB):                     7.01e-23\n",
      "Kurtosis:                       1.599   Cond. No.                         106.\n",
      "==============================================================================\n",
      "\n",
      "Notes:\n",
      "[1] Standard Errors assume that the covariance matrix of the errors is correctly specified.\n"
     ]
    }
   ],
   "source": [
    "# Define the regression model with 'Outcome' as the dependent variable\n",
    "model = smf.ols('Outcome ~ Age', data=df)\n",
    "\n",
    "# Fit the model\n",
    "results = model.fit()\n",
    "\n",
    "# Print the summary of the regression results\n",
    "print(results.summary())"
   ]
  },
  {
   "cell_type": "markdown",
   "id": "1d79693c-d67f-42fc-b536-63e5e7af704b",
   "metadata": {},
   "source": [
    "## 5.Data Visualization"
   ]
  },
  {
   "cell_type": "markdown",
   "id": "be6d2ae9-6732-4a65-b7e7-e0832829c4d2",
   "metadata": {},
   "source": [
    "## 5.1 Scatter Plot with Regression Line"
   ]
  },
  {
   "cell_type": "code",
   "execution_count": 17,
   "id": "b69f1132-61ba-4d4e-980c-77a5ee27e242",
   "metadata": {},
   "outputs": [
    {
     "data": {
      "text/plain": [
       "<function matplotlib.pyplot.show(close=None, block=None)>"
      ]
     },
     "execution_count": 17,
     "metadata": {},
     "output_type": "execute_result"
    },
    {
     "data": {
      "image/png": "[encoded data removed]",
      "text/plain": [
       "<Figure size 800x600 with 1 Axes>"
      ]
     },
     "metadata": {},
     "output_type": "display_data"
    }
   ],
   "source": [
    "import matplotlib.pyplot as plt\n",
    "import seaborn as sns\n",
    "\n",
    "# Scatter plot with regression line\n",
    "plt.figure(figsize=(8, 6))\n",
    "sns.regplot(x='Age', y='Outcome', data=df)\n",
    "plt.title('Scatter Plot with Regression Line')\n",
    "plt.xlabel('Age')\n",
    "plt.ylabel('Outcome')\n",
    "plt.show"
   ]
  },
  {
   "cell_type": "markdown",
   "id": "41f86917-b0e6-40ca-a3b4-50cd3856c4cb",
   "metadata": {},
   "source": [
    "Explanation:\n",
    "Here, we use the regplot() function from Seaborn to create a scatter plot with a regression line. The x-axis represents ‘Age’, and the y-axis represents ‘Outcome’. The regression line helps us understand the linear relationship between these two variables.\n"
   ]
  },
  {
   "cell_type": "markdown",
   "id": "f73e3d56-5edf-4ab4-84da-7d10374660fb",
   "metadata": {},
   "source": [
    "### 5.2 Histogram of Age"
   ]
  },
  {
   "cell_type": "code",
   "execution_count": 18,
   "id": "4e5ab7af-e355-4be9-81b0-83281462d9e9",
   "metadata": {},
   "outputs": [
    {
     "data": {
      "image/png": "[encoded data removed]",
      "text/plain": [
       "<Figure size 800x600 with 1 Axes>"
      ]
     },
     "metadata": {},
     "output_type": "display_data"
    }
   ],
   "source": [
    "#Histogram of Age\n",
    "plt.figure(figsize=(8, 6))\n",
    "sns.histplot(df['Age'], bins=10)\n",
    "plt.title('Histogram of Age')\n",
    "plt.xlabel('Age')\n",
    "plt.ylabel('Frequency')\n",
    "plt.show()"
   ]
  },
  {
   "cell_type": "markdown",
   "id": "f88a3e92-decb-4fff-85f3-09e852ce9391",
   "metadata": {},
   "source": [
    "Explanation:\n",
    "This cell creates a histogram that shows the distribution of ‘Age’. The number of bins is set to 10, which divides the ‘Age’ data into 10 equal intervals to visualize its frequency.\n"
   ]
  },
  {
   "cell_type": "markdown",
   "id": "485c196b-e4fa-41be-8dbd-bd76f71ed6f6",
   "metadata": {},
   "source": [
    "## 6.Conclusion\n",
    "\n",
    "In this notebook, we explored a dataset by visualizing the relationship between ‘Age’ and ‘Outcome’. The scatter plot with a regression line provided insights into the trend, while the histogram gave us an idea about the distribution of the ‘Age’ variable."
   ]
  }
 ],
 "metadata": {
  "kernelspec": {
   "display_name": "Python (hello)",
   "language": "python",
   "name": "hello"
  },
  "language_info": {
   "codemirror_mode": {
    "name": "ipython",
    "version": 3
   },
   "file_extension": ".py",
   "mimetype": "text/x-python",
   "name": "python",
   "nbconvert_exporter": "python",
   "pygments_lexer": "ipython3",
   "version": "3.12.3"
  }
 },
 "nbformat": 4,
 "nbformat_minor": 5
}
